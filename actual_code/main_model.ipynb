{
 "cells": [
  {
   "cell_type": "code",
   "execution_count": 1,
   "metadata": {},
   "outputs": [],
   "source": [
    "import torch\n",
    "import torch.nn as nn\n",
    "from lib2to3.pgen2 import token\n",
    "from tracemalloc import start\n",
    "import numpy as np\n",
    "import csv\n",
    "import keras\n",
    "from sklearn.utils import shuffle \n",
    "import time as tt\n",
    "from matplotlib import pyplot as plt\n",
    "from tqdm import tqdm"
   ]
  },
  {
   "cell_type": "code",
   "execution_count": 2,
   "metadata": {},
   "outputs": [],
   "source": [
    "np.random.seed(1)\n",
    "device = 'cuda'\n",
    "torch.set_default_tensor_type('torch.cuda.FloatTensor')\n",
    "\n",
    "def runtime(starttime):\n",
    "    ret = tt.time() - starttime\n",
    "    return ret\n",
    "\n",
    "def unison_shuffle(a, b):\n",
    "    p = np.random.permutation(len(a))\n",
    "    return a[p], b[p]\n",
    "\n",
    "def load_pretrained_embeddings(filepath):\n",
    "    print(\"Loading in pretrained GloVe embeddings from: {}\".format(filepath))\n",
    "    \n",
    "    embeddings = {}\n",
    "    with open(filepath, 'r', encoding='utf-8') as embedfile:\n",
    "        for line in embedfile:\n",
    "            split_line = line.split()\n",
    "            token = split_line[0]\n",
    "            embed = np.array(split_line[1:], dtype=np.float64)\n",
    "            embeddings[token] = embed\n",
    "    \n",
    "    print(\"{} words loaded into embedding\".format(len(embeddings)))\n",
    "    \n",
    "    return (embeddings)\n",
    "\n",
    "def tokenize_csv(filename):\n",
    "    sen=[]\n",
    "    lab=[]\n",
    "\n",
    "    with open(filename, mode='r',encoding='utf-8') as csvfile:\n",
    "        tweetreader = csv.reader(csvfile)\n",
    "        firstline=True\n",
    "        for sentence, label in tweetreader:\n",
    "            if firstline:\n",
    "                firstline=False\n",
    "                continue\n",
    "            else:\n",
    "                sen.append(keras.preprocessing.text.text_to_word_sequence(sentence.encode('ascii', 'ignore').decode('ascii')))\n",
    "                if label=='sadness':\n",
    "                    lab.append([0,0,0,0,1])\n",
    "                elif label=='happiness':\n",
    "                    lab.append([0,0,0,1,0])\n",
    "                elif label=='no emotion':\n",
    "                    lab.append([0,0,1,0,0])\n",
    "                elif label=='fear':\n",
    "                    lab.append([0,1,0,0,0])\n",
    "                else:\n",
    "                    lab.append([1,0,0,0,0])\n",
    "\n",
    "    return (sen, lab)\n",
    "\n",
    "def tokenize_manual(filename, label):\n",
    "    '''\n",
    "        00001 sadness \n",
    "        00010 happiness\n",
    "        00100 no emotion\n",
    "        01000 fear\n",
    "        10000 anger\n",
    "    '''\n",
    "\n",
    "    sen=[]\n",
    "    lab=[]\n",
    "    with open(filename, mode='r', encoding='utf-8') as csvfile:\n",
    "        treader=csv.reader(csvfile)\n",
    "        firstline=True\n",
    "        for i_d, t in treader:\n",
    "            if firstline:\n",
    "                firstline=False\n",
    "                continue\n",
    "            else:\n",
    "                sen.append(keras.preprocessing.text.text_to_word_sequence(t.encode('ascii', 'ignore').decode('ascii')))\n",
    "                lab.append(label)\n",
    "    \n",
    "    return (sen, lab)\n",
    "\n",
    "def tweet_vectorize(tweet_label_in, glove_embeds):\n",
    "    out_vectors = []\n",
    "\n",
    "    tweet_list = tweet_label_in[0]\n",
    "    label_list = tweet_label_in[1]\n",
    "\n",
    "    for i in range(len(tweet_list)):\n",
    "        curr_tweet = []\n",
    "        while len(tweet_list[i]) > 0 and len(curr_tweet) < 50:\n",
    "            curr_word = tweet_list[i].pop(0)\n",
    "            if curr_word in glove_embeds:\n",
    "                curr_tweet.append(glove_embeds[curr_word])\n",
    "            else:\n",
    "                curr_tweet.append(np.zeros(50))     # dimensionality of embedding vector\n",
    "        if len(curr_tweet) < 50:\n",
    "            while len(curr_tweet) < 50:\n",
    "                curr_tweet.append(np.zeros(50))\n",
    "        out_vectors.append(curr_tweet)\n",
    "    \n",
    "    return (out_vectors, label_list)\n",
    "\n",
    "def split_train_val_test(input, labels, man_input, man_lab):\n",
    "\n",
    "  input_shuff, labels_shuff = shuffle(input, labels)\n",
    "\n",
    "  training_proportion = 0.8\n",
    "  validation_proportion = 0.1\n",
    "  num_train = int(len(input_shuff) * training_proportion)\n",
    "  num_val = int(len(input_shuff) * validation_proportion)\n",
    "\n",
    "  input_train, input_valid, input_test = input_shuff[:num_train], input_shuff[num_train:num_train+num_val], input_shuff[num_train+num_val:]\n",
    "  label_train, label_valid, label_test = labels_shuff[:num_train], labels_shuff[num_train:num_train+num_val], labels_shuff[num_train+num_val:]\n",
    "\n",
    "  input_test += man_input\n",
    "  label_test += man_lab\n",
    "\n",
    "  return input_train, input_valid, input_test, label_train, label_valid, label_test\n",
    "\n",
    "def convert_to_tensors(input_train, input_valid, input_test, label_train, label_valid, label_test):\n",
    "  input_train = torch.as_tensor(input_train)\n",
    "  input_valid = torch.as_tensor(input_valid)\n",
    "  input_test = torch.as_tensor(input_test)\n",
    "  label_train = torch.as_tensor(label_train)\n",
    "  label_valid = torch.as_tensor(label_valid)\n",
    "  label_test = torch.as_tensor(label_test)\n",
    "\n",
    "  return input_train, input_valid, input_test, label_train, label_valid, label_test\n",
    "\n",
    "def accuracy_calc(predictions, labels):\n",
    "    prediction = torch.argmax(predictions, dim=1)\n",
    "    prediction = nn.functional.one_hot(prediction, num_classes=5)\n",
    "    ret = torch.unique(prediction[prediction == labels], return_counts=True)\n",
    "    if ret[0][-1] == 1: ret = float(ret[1][1]/len(labels))\n",
    "    else: ret = 0.0\n",
    "    return ret\n",
    "\n",
    "# Model Definition\n",
    "class model(nn.Module):\n",
    "    def __init__(self, in_channels=50, out_channels=50, kernel_size=3, stride=1, hidden_dim=4, num_layers=1):\n",
    "        super(model, self).__init__()\n",
    "\n",
    "        self.in_channels = in_channels\n",
    "        self.out_channels = out_channels\n",
    "        self.kernel_size = kernel_size\n",
    "        self.hidden_dim = hidden_dim\n",
    "        self.num_layers = num_layers\n",
    "\n",
    "        self.convolution_layer1 = nn.Sequential(\n",
    "            nn.Conv1d(in_channels, out_channels, kernel_size, stride),      # IN: [batch_size, num_vecs=50, embed_dim=50], OUT: [batch_size, out_channel=50, convolved=48]\n",
    "            nn.BatchNorm1d(out_channels),                                   # unchanged; in-place op\n",
    "            nn.ReLU(),                                                      # unchanged; in-place ops\n",
    "            nn.MaxPool1d(kernel_size))                                      # IN: [batch_size, out_channel=50, convolved=48], OUT: [batch_size, 50, floor(convolved/kernel_size)=16]\n",
    "\n",
    "        self.bilstm = nn.LSTM(input_size=int((self.in_channels - self.kernel_size + 1)/self.kernel_size), hidden_size=hidden_dim, bidirectional=True, num_layers=num_layers)   # IN: [batch_size, 50, 16], OUT: [batch_size, 50, 8]\n",
    "\n",
    "        self.lin1 = nn.Linear(out_channels, 1)\n",
    "        self.lin2 = nn.Linear(8, 5)     # whatever the 2nd of bilstm out is\n",
    "\n",
    "        self.softmax = nn.Softmax(dim=2)\n",
    "\n",
    "    def forward(self, x):\n",
    "        x = torch.tensor(x, dtype=torch.float32)\n",
    "        x = self.convolution_layer1(x)\n",
    "        x, (hn, cn) = self.bilstm(x)\n",
    "        x = torch.transpose(x, 1, 2)\n",
    "        x = self.lin1(x)\n",
    "        x = torch.transpose(x, 1, 2)\n",
    "        x = self.lin2(x)\n",
    "        x = self.softmax(x)\n",
    "        return(x)\n",
    "\n",
    "# training loop\n",
    "def training_loop(model_instance, loss, optimizer, epochs, batch_size, x_train, y_train):\n",
    "  for epoch in range(epochs):\n",
    "    prediction = model_instance(x_train)\n",
    "    print(prediction.shape)\n",
    "    loss_value = loss(prediction, y_train)\n",
    "    loss_value.backward()\n",
    "    optimizer.step()\n",
    "    optimizer.zero_grad()\n"
   ]
  },
  {
   "cell_type": "code",
   "execution_count": 3,
   "metadata": {},
   "outputs": [
    {
     "name": "stdout",
     "output_type": "stream",
     "text": [
      "Loading in pretrained GloVe embeddings from: D:/OneDrive - University of Toronto/School/NSCI Y3/WINTER/ECE324/glove.6B/glove.6B.50d.txt\n",
      "400000 words loaded into embedding\n"
     ]
    }
   ],
   "source": [
    "runstart = tt.time()\n",
    "small_embeds = load_pretrained_embeddings(\"D:/OneDrive - University of Toronto/School/NSCI Y3/WINTER/ECE324/glove.6B/glove.6B.50d.txt\")"
   ]
  },
  {
   "cell_type": "code",
   "execution_count": 4,
   "metadata": {},
   "outputs": [
    {
     "name": "stdout",
     "output_type": "stream",
     "text": [
      "Finished vectorizing csv number 1 Dataset size:  28091 28091\n",
      "Finished vectorizing csv number 2 Dataset size:  65180 65180\n",
      "Finished vectorizing csv number 3 Dataset size:  104505 104505\n",
      "Finished vectorizing csv number 4 Dataset size:  143588 143588\n",
      "Finished vectorizing csv number 5 Dataset size:  207863 207863\n"
     ]
    }
   ],
   "source": [
    "training_set = [[], []]\n",
    "for i in range(1, 6):\n",
    "    train_tokens = tokenize_csv(\"D:/OneDrive - University of Toronto/School/NSCI Y3/WINTER/ECE324/tweet_emotion/tweets_labels/data{}.csv\".format(str(i)))\n",
    "    temp_vec = tweet_vectorize(train_tokens, small_embeds)\n",
    "    training_set[0] = training_set[0] + temp_vec[0]\n",
    "    training_set[1] = training_set[1] + temp_vec[1]\n",
    "    print('Finished vectorizing csv number {}'.format(str(i)), \"Dataset size: \", len(training_set[0]), len(training_set[1]))\n",
    "\n",
    "manual_names = ['anger', 'fear', 'happy', 'sad']\n",
    "manual_labels = [[1,0,0,0,0], [0,1,0,0,0], [0,0,0,1,0], [0,0,0,0,1]]\n",
    "\n",
    "manual_set = [[], []]\n",
    "for i in range(len(manual_labels)):\n",
    "    manual_tokens = tokenize_manual(\"D:/OneDrive - University of Toronto/School/NSCI Y3/WINTER/ECE324/tweet_emotion/manually_labeled/data_{}.csv\".format(manual_names[i]), manual_labels[i])\n",
    "    temp_vec = tweet_vectorize(manual_tokens, small_embeds)\n",
    "    manual_set[0] = manual_set[0] + temp_vec[0]\n",
    "    manual_set[1] = manual_set[1] + temp_vec[1]"
   ]
  },
  {
   "cell_type": "code",
   "execution_count": 5,
   "metadata": {},
   "outputs": [
    {
     "name": "stderr",
     "output_type": "stream",
     "text": [
      "C:\\Users\\garyx\\AppData\\Local\\Temp/ipykernel_12124/1591375611.py:117: UserWarning: Creating a tensor from a list of numpy.ndarrays is extremely slow. Please consider converting the list to a single numpy.ndarray with numpy.array() before converting to a tensor. (Triggered internally at  ..\\torch\\csrc\\utils\\tensor_new.cpp:201.)\n",
      "  input_train = torch.as_tensor(input_train)\n"
     ]
    }
   ],
   "source": [
    "x_train, x_valid, x_test, y_train, y_valid, y_test = split_train_val_test(training_set[0], training_set[1], manual_set[0], manual_set[1])\n",
    "x_train, x_valid, x_test, y_train, y_valid, y_test = convert_to_tensors(x_train, x_valid, x_test, y_train, y_valid, y_test)"
   ]
  },
  {
   "cell_type": "markdown",
   "metadata": {},
   "source": [
    "#### Initial tested parameters\n",
    "Training params: epochs = 10, learning rate = 0.001, batch size = 10000, optimizer = Adam, loss = BCELoss <br/>\n",
    "Model params: out_channels = 30, kernel_size = 3, stride = 1, hidden_dim = 4, num_layers = 1 <br/>\n",
    "Train & Valid accuracy w/ params: 60.4906% & 60.3420%\n",
    "\n",
    "#### Tuning tested parameters\n",
    "Training params: epochs = 10, learning rate = 0.0001, batch size = 5000, optimizer = Adam, loss = BCELoss <br/>\n",
    "Model params: out_channels = 30, kernel_size = 5, stride = 1, hidden_dim = 4, num_layers = 1 <br/>\n",
    "Train Valid Test accuracy w/ params: 60.0988, 60.2081, 59.4562\n",
    "\n",
    "Training params: epochs = 10, learning rate = 0.001, batch size = 10000, optimizer = Adam, loss = BCELoss <br/>\n",
    "Model params: out_channels = 50, kernel_size = 3, stride = 1, hidden_dim = 4, num_layers = 1 <br/>\n",
    "Train Valid Test accuracy accuracy w/ params: 60.5603%, 60.5773%, 60.395527%\n",
    "\n",
    "Training params: epochs = 10, learning rate = 0.001, batch size = 10000, optimizer = Adam, loss = BCELoss <br/>\n",
    "Model params: out_channels = 50, kernel_size = 3, stride = 1, hidden_dim = 4, num_layers = 2 <br/>\n",
    "Train Valid Test accuracy accuracy w/ params: 60.0768%, 60.0725%, 59.479868%\n",
    "\n",
    "Training params: epochs = 100, learning rate = 0.001, batch size = 1000, optimizer = Adam, loss = BCELoss <br/>\n",
    "Model params: out_channels = 50, kernel_size = 3, stride = 1, hidden_dim = 4, num_layers = 1 <br/>\n",
    "Train Valid Test accuracy accuracy w/ params: 69.5821%, 66.4842%, 65.8611% |||| Took ~24 min\n",
    "\n",
    "Training params: epochs = 50, learning rate = 0.001, batch size = 1000, optimizer = Adam, loss = BCELoss <br/>\n",
    "Model params: out_channels = 50, kernel_size = 3, stride = 1, hidden_dim = 4, num_layers = 1 <br/>\n",
    "Train Valid Test accuracy accuracy w/ params: 68.7802%, 65.6326%, 65.2617% |||| Took ~12 min"
   ]
  },
  {
   "cell_type": "code",
   "execution_count": 8,
   "metadata": {},
   "outputs": [
    {
     "name": "stderr",
     "output_type": "stream",
     "text": [
      "Training Epochs:   0%|          | 0/50 [00:00<?, ?it/s]C:\\Users\\garyx\\AppData\\Local\\Temp/ipykernel_12124/1591375611.py:159: UserWarning: To copy construct from a tensor, it is recommended to use sourceTensor.clone().detach() or sourceTensor.clone().detach().requires_grad_(True), rather than torch.tensor(sourceTensor).\n",
      "  x = torch.tensor(x, dtype=torch.float32)\n",
      "Training Epochs:   2%|▏         | 1/50 [00:17<13:53, 17.01s/it]"
     ]
    },
    {
     "name": "stdout",
     "output_type": "stream",
     "text": [
      "Train Loss: 0.3784\t\t\n",
      "Train Acc: 60.0901%\t\n",
      "Valid Loss: 0.3542\t\t\n",
      "Valid Acc: 60.5527%\t\n"
     ]
    },
    {
     "name": "stderr",
     "output_type": "stream",
     "text": [
      "Training Epochs:   4%|▍         | 2/50 [00:35<14:13, 17.78s/it]"
     ]
    },
    {
     "name": "stdout",
     "output_type": "stream",
     "text": [
      "Train Loss: 0.3386\t\t\n",
      "Train Acc: 62.1128%\t\n",
      "Valid Loss: 0.3258\t\t\n",
      "Valid Acc: 63.8993%\t\n"
     ]
    },
    {
     "name": "stderr",
     "output_type": "stream",
     "text": [
      "Training Epochs:   6%|▌         | 3/50 [00:53<14:03, 17.96s/it]"
     ]
    },
    {
     "name": "stdout",
     "output_type": "stream",
     "text": [
      "Train Loss: 0.3207\t\t\n",
      "Train Acc: 64.1210%\t\n",
      "Valid Loss: 0.3184\t\t\n",
      "Valid Acc: 64.2292%\t\n"
     ]
    },
    {
     "name": "stderr",
     "output_type": "stream",
     "text": [
      "Training Epochs:   8%|▊         | 4/50 [01:11<13:49, 18.03s/it]"
     ]
    },
    {
     "name": "stdout",
     "output_type": "stream",
     "text": [
      "Train Loss: 0.3149\t\t\n",
      "Train Acc: 64.5997%\t\n",
      "Valid Loss: 0.3146\t\t\n",
      "Valid Acc: 64.5166%\t\n"
     ]
    },
    {
     "name": "stderr",
     "output_type": "stream",
     "text": [
      "Training Epochs:  10%|█         | 5/50 [01:29<13:32, 18.06s/it]"
     ]
    },
    {
     "name": "stdout",
     "output_type": "stream",
     "text": [
      "Train Loss: 0.3110\t\t\n",
      "Train Acc: 64.9841%\t\n",
      "Valid Loss: 0.3117\t\t\n",
      "Valid Acc: 64.8158%\t\n"
     ]
    },
    {
     "name": "stderr",
     "output_type": "stream",
     "text": [
      "Training Epochs:  12%|█▏        | 6/50 [01:47<13:16, 18.11s/it]"
     ]
    },
    {
     "name": "stdout",
     "output_type": "stream",
     "text": [
      "Train Loss: 0.3077\t\t\n",
      "Train Acc: 65.3325%\t\n",
      "Valid Loss: 0.3094\t\t\n",
      "Valid Acc: 65.0231%\t\n"
     ]
    },
    {
     "name": "stderr",
     "output_type": "stream",
     "text": [
      "Training Epochs:  14%|█▍        | 7/50 [02:05<12:57, 18.09s/it]"
     ]
    },
    {
     "name": "stdout",
     "output_type": "stream",
     "text": [
      "Train Loss: 0.3047\t\t\n",
      "Train Acc: 65.6201%\t\n",
      "Valid Loss: 0.3075\t\t\n",
      "Valid Acc: 65.2820%\t\n"
     ]
    },
    {
     "name": "stderr",
     "output_type": "stream",
     "text": [
      "Training Epochs:  16%|█▌        | 8/50 [02:24<12:46, 18.25s/it]"
     ]
    },
    {
     "name": "stdout",
     "output_type": "stream",
     "text": [
      "Train Loss: 0.3023\t\t\n",
      "Train Acc: 65.8860%\t\n",
      "Valid Loss: 0.3062\t\t\n",
      "Valid Acc: 65.3976%\t\n"
     ]
    },
    {
     "name": "stderr",
     "output_type": "stream",
     "text": [
      "Training Epochs:  18%|█▊        | 9/50 [02:42<12:28, 18.25s/it]"
     ]
    },
    {
     "name": "stdout",
     "output_type": "stream",
     "text": [
      "Train Loss: 0.3003\t\t\n",
      "Train Acc: 66.0839%\t\n",
      "Valid Loss: 0.3053\t\t\n",
      "Valid Acc: 65.4703%\t\n"
     ]
    },
    {
     "name": "stderr",
     "output_type": "stream",
     "text": [
      "Training Epochs:  20%|██        | 10/50 [03:01<12:09, 18.23s/it]"
     ]
    },
    {
     "name": "stdout",
     "output_type": "stream",
     "text": [
      "Train Loss: 0.2987\t\t\n",
      "Train Acc: 66.2415%\t\n",
      "Valid Loss: 0.3045\t\t\n",
      "Valid Acc: 65.3776%\t\n"
     ]
    },
    {
     "name": "stderr",
     "output_type": "stream",
     "text": [
      "Training Epochs:  22%|██▏       | 11/50 [03:18<11:44, 18.07s/it]"
     ]
    },
    {
     "name": "stdout",
     "output_type": "stream",
     "text": [
      "Train Loss: 0.2973\t\t\n",
      "Train Acc: 66.3802%\t\n",
      "Valid Loss: 0.3040\t\t\n",
      "Valid Acc: 65.5266%\t\n"
     ]
    },
    {
     "name": "stderr",
     "output_type": "stream",
     "text": [
      "Training Epochs:  24%|██▍       | 12/50 [03:35<11:06, 17.55s/it]"
     ]
    },
    {
     "name": "stdout",
     "output_type": "stream",
     "text": [
      "Train Loss: 0.2960\t\t\n",
      "Train Acc: 66.5666%\t\n",
      "Valid Loss: 0.3034\t\t\n",
      "Valid Acc: 65.5421%\t\n"
     ]
    },
    {
     "name": "stderr",
     "output_type": "stream",
     "text": [
      "Training Epochs:  26%|██▌       | 13/50 [03:49<10:18, 16.71s/it]"
     ]
    },
    {
     "name": "stdout",
     "output_type": "stream",
     "text": [
      "Train Loss: 0.2949\t\t\n",
      "Train Acc: 66.7322%\t\n",
      "Valid Loss: 0.3036\t\t\n",
      "Valid Acc: 65.4668%\t\n"
     ]
    },
    {
     "name": "stderr",
     "output_type": "stream",
     "text": [
      "Training Epochs:  28%|██▊       | 14/50 [04:04<09:38, 16.06s/it]"
     ]
    },
    {
     "name": "stdout",
     "output_type": "stream",
     "text": [
      "Train Loss: 0.2940\t\t\n",
      "Train Acc: 66.8710%\t\n",
      "Valid Loss: 0.3034\t\t\n",
      "Valid Acc: 65.4170%\t\n"
     ]
    },
    {
     "name": "stderr",
     "output_type": "stream",
     "text": [
      "Training Epochs:  30%|███       | 15/50 [04:19<09:10, 15.72s/it]"
     ]
    },
    {
     "name": "stdout",
     "output_type": "stream",
     "text": [
      "Train Loss: 0.2931\t\t\n",
      "Train Acc: 66.9734%\t\n",
      "Valid Loss: 0.3031\t\t\n",
      "Valid Acc: 65.5114%\t\n"
     ]
    },
    {
     "name": "stderr",
     "output_type": "stream",
     "text": [
      "Training Epochs:  32%|███▏      | 16/50 [04:34<08:46, 15.47s/it]"
     ]
    },
    {
     "name": "stdout",
     "output_type": "stream",
     "text": [
      "Train Loss: 0.2921\t\t\n",
      "Train Acc: 67.1131%\t\n",
      "Valid Loss: 0.3029\t\t\n",
      "Valid Acc: 65.4564%\t\n"
     ]
    },
    {
     "name": "stderr",
     "output_type": "stream",
     "text": [
      "Training Epochs:  34%|███▍      | 17/50 [04:48<08:21, 15.21s/it]"
     ]
    },
    {
     "name": "stdout",
     "output_type": "stream",
     "text": [
      "Train Loss: 0.2913\t\t\n",
      "Train Acc: 67.1832%\t\n",
      "Valid Loss: 0.3030\t\t\n",
      "Valid Acc: 65.3352%\t\n"
     ]
    },
    {
     "name": "stderr",
     "output_type": "stream",
     "text": [
      "Training Epochs:  36%|███▌      | 18/50 [05:03<07:57, 14.91s/it]"
     ]
    },
    {
     "name": "stdout",
     "output_type": "stream",
     "text": [
      "Train Loss: 0.2907\t\t\n",
      "Train Acc: 67.3150%\t\n",
      "Valid Loss: 0.3028\t\t\n",
      "Valid Acc: 65.4387%\t\n"
     ]
    },
    {
     "name": "stderr",
     "output_type": "stream",
     "text": [
      "Training Epochs:  38%|███▊      | 19/50 [05:17<07:38, 14.77s/it]"
     ]
    },
    {
     "name": "stdout",
     "output_type": "stream",
     "text": [
      "Train Loss: 0.2900\t\t\n",
      "Train Acc: 67.3500%\t\n",
      "Valid Loss: 0.3024\t\t\n",
      "Valid Acc: 65.6863%\t\n"
     ]
    },
    {
     "name": "stderr",
     "output_type": "stream",
     "text": [
      "Training Epochs:  40%|████      | 20/50 [05:32<07:20, 14.69s/it]"
     ]
    },
    {
     "name": "stdout",
     "output_type": "stream",
     "text": [
      "Train Loss: 0.2892\t\t\n",
      "Train Acc: 67.4613%\t\n",
      "Valid Loss: 0.3024\t\t\n",
      "Valid Acc: 65.7127%\t\n"
     ]
    },
    {
     "name": "stderr",
     "output_type": "stream",
     "text": [
      "Training Epochs:  42%|████▏     | 21/50 [05:46<07:02, 14.56s/it]"
     ]
    },
    {
     "name": "stdout",
     "output_type": "stream",
     "text": [
      "Train Loss: 0.2886\t\t\n",
      "Train Acc: 67.5631%\t\n",
      "Valid Loss: 0.3022\t\t\n",
      "Valid Acc: 65.7019%\t\n"
     ]
    },
    {
     "name": "stderr",
     "output_type": "stream",
     "text": [
      "Training Epochs:  44%|████▍     | 22/50 [06:00<06:45, 14.49s/it]"
     ]
    },
    {
     "name": "stdout",
     "output_type": "stream",
     "text": [
      "Train Loss: 0.2880\t\t\n",
      "Train Acc: 67.6062%\t\n",
      "Valid Loss: 0.3023\t\t\n",
      "Valid Acc: 65.6759%\t\n"
     ]
    },
    {
     "name": "stderr",
     "output_type": "stream",
     "text": [
      "Training Epochs:  46%|████▌     | 23/50 [06:14<06:29, 14.41s/it]"
     ]
    },
    {
     "name": "stdout",
     "output_type": "stream",
     "text": [
      "Train Loss: 0.2875\t\t\n",
      "Train Acc: 67.6709%\t\n",
      "Valid Loss: 0.3021\t\t\n",
      "Valid Acc: 65.6577%\t\n"
     ]
    },
    {
     "name": "stderr",
     "output_type": "stream",
     "text": [
      "Training Epochs:  48%|████▊     | 24/50 [06:29<06:12, 14.34s/it]"
     ]
    },
    {
     "name": "stdout",
     "output_type": "stream",
     "text": [
      "Train Loss: 0.2876\t\t\n",
      "Train Acc: 67.7000%\t\n",
      "Valid Loss: 0.3024\t\t\n",
      "Valid Acc: 65.6374%\t\n"
     ]
    },
    {
     "name": "stderr",
     "output_type": "stream",
     "text": [
      "Training Epochs:  50%|█████     | 25/50 [06:43<05:57, 14.31s/it]"
     ]
    },
    {
     "name": "stdout",
     "output_type": "stream",
     "text": [
      "Train Loss: 0.2870\t\t\n",
      "Train Acc: 67.7565%\t\n",
      "Valid Loss: 0.3020\t\t\n",
      "Valid Acc: 65.7313%\t\n"
     ]
    },
    {
     "name": "stderr",
     "output_type": "stream",
     "text": [
      "Training Epochs:  52%|█████▏    | 26/50 [06:57<05:42, 14.27s/it]"
     ]
    },
    {
     "name": "stdout",
     "output_type": "stream",
     "text": [
      "Train Loss: 0.2864\t\t\n",
      "Train Acc: 67.8768%\t\n",
      "Valid Loss: 0.3028\t\t\n",
      "Valid Acc: 65.4863%\t\n"
     ]
    },
    {
     "name": "stderr",
     "output_type": "stream",
     "text": [
      "Training Epochs:  54%|█████▍    | 27/50 [07:11<05:27, 14.24s/it]"
     ]
    },
    {
     "name": "stdout",
     "output_type": "stream",
     "text": [
      "Train Loss: 0.2869\t\t\n",
      "Train Acc: 67.8071%\t\n",
      "Valid Loss: 0.3021\t\t\n",
      "Valid Acc: 65.6776%\t\n"
     ]
    },
    {
     "name": "stderr",
     "output_type": "stream",
     "text": [
      "Training Epochs:  56%|█████▌    | 28/50 [07:25<05:13, 14.24s/it]"
     ]
    },
    {
     "name": "stdout",
     "output_type": "stream",
     "text": [
      "Train Loss: 0.2862\t\t\n",
      "Train Acc: 67.9020%\t\n",
      "Valid Loss: 0.3020\t\t\n",
      "Valid Acc: 65.7681%\t\n"
     ]
    },
    {
     "name": "stderr",
     "output_type": "stream",
     "text": [
      "Training Epochs:  58%|█████▊    | 29/50 [07:40<04:58, 14.23s/it]"
     ]
    },
    {
     "name": "stdout",
     "output_type": "stream",
     "text": [
      "Train Loss: 0.2856\t\t\n",
      "Train Acc: 68.0104%\t\n",
      "Valid Loss: 0.3023\t\t\n",
      "Valid Acc: 65.7192%\t\n"
     ]
    },
    {
     "name": "stderr",
     "output_type": "stream",
     "text": [
      "Training Epochs:  60%|██████    | 30/50 [07:54<04:44, 14.22s/it]"
     ]
    },
    {
     "name": "stdout",
     "output_type": "stream",
     "text": [
      "Train Loss: 0.2851\t\t\n",
      "Train Acc: 68.0338%\t\n",
      "Valid Loss: 0.3026\t\t\n",
      "Valid Acc: 65.8123%\t\n"
     ]
    },
    {
     "name": "stderr",
     "output_type": "stream",
     "text": [
      "Training Epochs:  62%|██████▏   | 31/50 [08:08<04:29, 14.21s/it]"
     ]
    },
    {
     "name": "stdout",
     "output_type": "stream",
     "text": [
      "Train Loss: 0.2847\t\t\n",
      "Train Acc: 68.0978%\t\n",
      "Valid Loss: 0.3023\t\t\n",
      "Valid Acc: 65.7062%\t\n"
     ]
    },
    {
     "name": "stderr",
     "output_type": "stream",
     "text": [
      "Training Epochs:  64%|██████▍   | 32/50 [08:22<04:16, 14.23s/it]"
     ]
    },
    {
     "name": "stdout",
     "output_type": "stream",
     "text": [
      "Train Loss: 0.2842\t\t\n",
      "Train Acc: 68.1370%\t\n",
      "Valid Loss: 0.3024\t\t\n",
      "Valid Acc: 65.7253%\t\n"
     ]
    },
    {
     "name": "stderr",
     "output_type": "stream",
     "text": [
      "Training Epochs:  66%|██████▌   | 33/50 [08:36<04:01, 14.23s/it]"
     ]
    },
    {
     "name": "stdout",
     "output_type": "stream",
     "text": [
      "Train Loss: 0.2838\t\t\n",
      "Train Acc: 68.2214%\t\n",
      "Valid Loss: 0.3025\t\t\n",
      "Valid Acc: 65.7132%\t\n"
     ]
    },
    {
     "name": "stderr",
     "output_type": "stream",
     "text": [
      "Training Epochs:  68%|██████▊   | 34/50 [08:51<03:47, 14.23s/it]"
     ]
    },
    {
     "name": "stdout",
     "output_type": "stream",
     "text": [
      "Train Loss: 0.2834\t\t\n",
      "Train Acc: 68.2764%\t\n",
      "Valid Loss: 0.3026\t\t\n",
      "Valid Acc: 65.6573%\t\n"
     ]
    },
    {
     "name": "stderr",
     "output_type": "stream",
     "text": [
      "Training Epochs:  70%|███████   | 35/50 [09:05<03:33, 14.22s/it]"
     ]
    },
    {
     "name": "stdout",
     "output_type": "stream",
     "text": [
      "Train Loss: 0.2831\t\t\n",
      "Train Acc: 68.2904%\t\n",
      "Valid Loss: 0.3027\t\t\n",
      "Valid Acc: 65.6919%\t\n"
     ]
    },
    {
     "name": "stderr",
     "output_type": "stream",
     "text": [
      "Training Epochs:  72%|███████▏  | 36/50 [09:19<03:18, 14.21s/it]"
     ]
    },
    {
     "name": "stdout",
     "output_type": "stream",
     "text": [
      "Train Loss: 0.2828\t\t\n",
      "Train Acc: 68.3425%\t\n",
      "Valid Loss: 0.3028\t\t\n",
      "Valid Acc: 65.6980%\t\n"
     ]
    },
    {
     "name": "stderr",
     "output_type": "stream",
     "text": [
      "Training Epochs:  74%|███████▍  | 37/50 [09:33<03:04, 14.20s/it]"
     ]
    },
    {
     "name": "stdout",
     "output_type": "stream",
     "text": [
      "Train Loss: 0.2825\t\t\n",
      "Train Acc: 68.3716%\t\n",
      "Valid Loss: 0.3029\t\t\n",
      "Valid Acc: 65.7872%\t\n"
     ]
    },
    {
     "name": "stderr",
     "output_type": "stream",
     "text": [
      "Training Epochs:  76%|███████▌  | 38/50 [09:48<02:50, 14.23s/it]"
     ]
    },
    {
     "name": "stdout",
     "output_type": "stream",
     "text": [
      "Train Loss: 0.2823\t\t\n",
      "Train Acc: 68.3983%\t\n",
      "Valid Loss: 0.3029\t\t\n",
      "Valid Acc: 65.7408%\t\n"
     ]
    },
    {
     "name": "stderr",
     "output_type": "stream",
     "text": [
      "Training Epochs:  78%|███████▊  | 39/50 [10:02<02:36, 14.22s/it]"
     ]
    },
    {
     "name": "stdout",
     "output_type": "stream",
     "text": [
      "Train Loss: 0.2820\t\t\n",
      "Train Acc: 68.4566%\t\n",
      "Valid Loss: 0.3029\t\t\n",
      "Valid Acc: 65.7564%\t\n"
     ]
    },
    {
     "name": "stderr",
     "output_type": "stream",
     "text": [
      "Training Epochs:  80%|████████  | 40/50 [10:16<02:22, 14.22s/it]"
     ]
    },
    {
     "name": "stdout",
     "output_type": "stream",
     "text": [
      "Train Loss: 0.2818\t\t\n",
      "Train Acc: 68.5123%\t\n",
      "Valid Loss: 0.3030\t\t\n",
      "Valid Acc: 65.8257%\t\n"
     ]
    },
    {
     "name": "stderr",
     "output_type": "stream",
     "text": [
      "Training Epochs:  82%|████████▏ | 41/50 [10:30<02:07, 14.22s/it]"
     ]
    },
    {
     "name": "stdout",
     "output_type": "stream",
     "text": [
      "Train Loss: 0.2816\t\t\n",
      "Train Acc: 68.5554%\t\n",
      "Valid Loss: 0.3030\t\t\n",
      "Valid Acc: 65.7802%\t\n"
     ]
    },
    {
     "name": "stderr",
     "output_type": "stream",
     "text": [
      "Training Epochs:  84%|████████▍ | 42/50 [10:44<01:53, 14.21s/it]"
     ]
    },
    {
     "name": "stdout",
     "output_type": "stream",
     "text": [
      "Train Loss: 0.2814\t\t\n",
      "Train Acc: 68.5799%\t\n",
      "Valid Loss: 0.3031\t\t\n",
      "Valid Acc: 65.7789%\t\n"
     ]
    },
    {
     "name": "stderr",
     "output_type": "stream",
     "text": [
      "Training Epochs:  86%|████████▌ | 43/50 [10:59<01:39, 14.20s/it]"
     ]
    },
    {
     "name": "stdout",
     "output_type": "stream",
     "text": [
      "Train Loss: 0.2811\t\t\n",
      "Train Acc: 68.6319%\t\n",
      "Valid Loss: 0.3032\t\t\n",
      "Valid Acc: 65.7456%\t\n"
     ]
    },
    {
     "name": "stderr",
     "output_type": "stream",
     "text": [
      "Training Epochs:  88%|████████▊ | 44/50 [11:13<01:25, 14.21s/it]"
     ]
    },
    {
     "name": "stdout",
     "output_type": "stream",
     "text": [
      "Train Loss: 0.2809\t\t\n",
      "Train Acc: 68.6602%\t\n",
      "Valid Loss: 0.3033\t\t\n",
      "Valid Acc: 65.7586%\t\n"
     ]
    },
    {
     "name": "stderr",
     "output_type": "stream",
     "text": [
      "Training Epochs:  90%|█████████ | 45/50 [11:27<01:11, 14.20s/it]"
     ]
    },
    {
     "name": "stdout",
     "output_type": "stream",
     "text": [
      "Train Loss: 0.2808\t\t\n",
      "Train Acc: 68.6937%\t\n",
      "Valid Loss: 0.3034\t\t\n",
      "Valid Acc: 65.7504%\t\n"
     ]
    },
    {
     "name": "stderr",
     "output_type": "stream",
     "text": [
      "Training Epochs:  92%|█████████▏| 46/50 [11:41<00:56, 14.20s/it]"
     ]
    },
    {
     "name": "stdout",
     "output_type": "stream",
     "text": [
      "Train Loss: 0.2806\t\t\n",
      "Train Acc: 68.6934%\t\n",
      "Valid Loss: 0.3034\t\t\n",
      "Valid Acc: 65.6824%\t\n"
     ]
    },
    {
     "name": "stderr",
     "output_type": "stream",
     "text": [
      "Training Epochs:  94%|█████████▍| 47/50 [11:55<00:42, 14.19s/it]"
     ]
    },
    {
     "name": "stdout",
     "output_type": "stream",
     "text": [
      "Train Loss: 0.2804\t\t\n",
      "Train Acc: 68.7299%\t\n",
      "Valid Loss: 0.3035\t\t\n",
      "Valid Acc: 65.6802%\t\n"
     ]
    },
    {
     "name": "stderr",
     "output_type": "stream",
     "text": [
      "Training Epochs:  96%|█████████▌| 48/50 [12:09<00:28, 14.18s/it]"
     ]
    },
    {
     "name": "stdout",
     "output_type": "stream",
     "text": [
      "Train Loss: 0.2802\t\t\n",
      "Train Acc: 68.7367%\t\n",
      "Valid Loss: 0.3036\t\t\n",
      "Valid Acc: 65.6456%\t\n"
     ]
    },
    {
     "name": "stderr",
     "output_type": "stream",
     "text": [
      "Training Epochs:  98%|█████████▊| 49/50 [12:24<00:14, 14.17s/it]"
     ]
    },
    {
     "name": "stdout",
     "output_type": "stream",
     "text": [
      "Train Loss: 0.2800\t\t\n",
      "Train Acc: 68.7601%\t\n",
      "Valid Loss: 0.3037\t\t\n",
      "Valid Acc: 65.6720%\t\n"
     ]
    },
    {
     "name": "stderr",
     "output_type": "stream",
     "text": [
      "Training Epochs: 100%|██████████| 50/50 [12:38<00:00, 15.17s/it]"
     ]
    },
    {
     "name": "stdout",
     "output_type": "stream",
     "text": [
      "Train Loss: 0.2799\t\t\n",
      "Train Acc: 68.7802%\t\n",
      "Valid Loss: 0.3038\t\t\n",
      "Valid Acc: 65.6326%\t\n",
      "Total training runtime: 758.270429\n"
     ]
    },
    {
     "name": "stderr",
     "output_type": "stream",
     "text": [
      "\n"
     ]
    }
   ],
   "source": [
    "start = tt.time()\n",
    "\n",
    "y_train = torch.squeeze(y_train, dim=1)\n",
    "y_valid = torch.squeeze(y_valid, dim=1)\n",
    "y_test = torch.squeeze(y_test, dim=1)\n",
    "\n",
    "model_instance = model()\n",
    "\n",
    "# Training hyperparams\n",
    "loss = nn.BCELoss()\n",
    "optimizer = torch.optim.Adam(model_instance.parameters(), lr=0.001)\n",
    "batch_size = 1000\n",
    "num_epochs = 50\n",
    "\n",
    "epoch_acc = []\n",
    "epoch_loss = []\n",
    "\n",
    "curr_iter = 0\n",
    "for epoch in tqdm(range(int(num_epochs)), desc='Training Epochs'):\n",
    "    train_acc = []\n",
    "    valid_acc = []\n",
    "    train_loss = []\n",
    "    valid_loss = []\n",
    "\n",
    "    for b in range(0, len(x_train), batch_size):\n",
    "        x_batch = x_train[b:b+batch_size]\n",
    "        y_batch = y_train[b:b+batch_size]\n",
    "\n",
    "        prediction = model_instance(x_batch)\n",
    "        prediction = torch.squeeze(prediction, dim=1)\n",
    "        y_batch = y_batch.type(torch.cuda.FloatTensor)\n",
    "        loss_value = loss(prediction, y_batch)\n",
    "        loss_value.backward()\n",
    "        optimizer.step()\n",
    "        optimizer.zero_grad()\n",
    "\n",
    "        train_acc.append(accuracy_calc(prediction, y_batch))\n",
    "        train_loss.append(loss_value.item())\n",
    "        \n",
    "    train_loss = np.asarray(train_loss)\n",
    "    train_acc = np.asarray(train_acc)\n",
    "    epoch_loss.append(np.mean(train_loss))\n",
    "    epoch_acc.append(100*np.mean(train_acc))\n",
    "\n",
    "    for b in range(0, len(x_valid), batch_size):\n",
    "        x_batch = x_valid[b:b+batch_size]\n",
    "        y_batch = y_valid[b:b+batch_size]\n",
    "\n",
    "        prediction = model_instance(x_batch)\n",
    "        prediction = torch.squeeze(prediction, dim=1)\n",
    "        y_batch = y_batch.type(torch.cuda.FloatTensor)\n",
    "        loss_value = loss(prediction, y_batch)\n",
    "\n",
    "        valid_acc.append(accuracy_calc(prediction, y_batch))\n",
    "        valid_loss.append(loss_value.item())\n",
    "\n",
    "    valid_loss = np.asarray(valid_loss)\n",
    "    valid_acc = np.asarray(valid_acc)\n",
    "    \n",
    "    print(\"Train Loss: {:.4f}\\t\\t\".format(epoch_loss[-1])) \n",
    "    print(\"Train Acc: {:.4f}%\\t\".format(epoch_acc[-1]))\n",
    "    print(\"Valid Loss: {:.4f}\\t\\t\".format(np.mean(valid_loss))) \n",
    "    print(\"Valid Acc: {:.4f}%\\t\".format(100*np.mean(valid_acc)))\n",
    "\n",
    "print(\"Total training runtime: {:2f}\".format(runtime(start)))"
   ]
  },
  {
   "cell_type": "code",
   "execution_count": 9,
   "metadata": {},
   "outputs": [
    {
     "name": "stderr",
     "output_type": "stream",
     "text": [
      "C:\\Users\\garyx\\AppData\\Local\\Temp/ipykernel_12124/1591375611.py:159: UserWarning: To copy construct from a tensor, it is recommended to use sourceTensor.clone().detach() or sourceTensor.clone().detach().requires_grad_(True), rather than torch.tensor(sourceTensor).\n",
      "  x = torch.tensor(x, dtype=torch.float32)\n"
     ]
    },
    {
     "name": "stdout",
     "output_type": "stream",
     "text": [
      "Test acc: 65.261716%\n"
     ]
    }
   ],
   "source": [
    "# Test accuracy:\n",
    "prediction = model_instance(x_test)\n",
    "prediction = torch.squeeze(prediction, dim=1)\n",
    "test_acc = accuracy_calc(prediction, y_test)\n",
    "print(\"Test acc: {:4f}%\".format(100*test_acc))"
   ]
  },
  {
   "cell_type": "code",
   "execution_count": 10,
   "metadata": {},
   "outputs": [
    {
     "data": {
      "text/plain": [
       "Text(0.5, 1.0, 'Model Training Loss over 50 Epochs')"
      ]
     },
     "execution_count": 10,
     "metadata": {},
     "output_type": "execute_result"
    },
    {
     "data": {
      "image/png": "[encoded data removed]",
      "text/plain": [
       "<Figure size 432x288 with 1 Axes>"
      ]
     },
     "metadata": {
      "needs_background": "light"
     },
     "output_type": "display_data"
    }
   ],
   "source": [
    "plt.plot(range(1, len(epoch_loss) + 1), epoch_loss)\n",
    "plt.xlabel('Number of Epochs')\n",
    "plt.ylabel('BCELoss')\n",
    "plt.title('Model Training Loss over 50 Epochs')"
   ]
  },
  {
   "cell_type": "code",
   "execution_count": 11,
   "metadata": {},
   "outputs": [
    {
     "data": {
      "text/plain": [
       "Text(0.5, 1.0, 'Model Training Accuracy over 50 Epochs')"
      ]
     },
     "execution_count": 11,
     "metadata": {},
     "output_type": "execute_result"
    },
    {
     "data": {
      "image/png": "[encoded data removed]",
      "text/plain": [
       "<Figure size 432x288 with 1 Axes>"
      ]
     },
     "metadata": {
      "needs_background": "light"
     },
     "output_type": "display_data"
    }
   ],
   "source": [
    "plt.plot(range(1, len(epoch_acc) + 1), epoch_acc)\n",
    "plt.xlabel('Number of Epochs')\n",
    "plt.ylabel('Model Accuracy')\n",
    "plt.title('Model Training Accuracy over 50 Epochs')"
   ]
  }
 ],
 "metadata": {
  "interpreter": {
   "hash": "10e1abf77ddef6b5a0d462bd0c1af8a6d69cacf984b7ff54f171d3af9bd75ca1"
  },
  "kernelspec": {
   "display_name": "Python 3.9.7 ('base')",
   "language": "python",
   "name": "python3"
  },
  "language_info": {
   "codemirror_mode": {
    "name": "ipython",
    "version": 3
   },
   "file_extension": ".py",
   "mimetype": "text/x-python",
   "name": "python",
   "nbconvert_exporter": "python",
   "pygments_lexer": "ipython3",
   "version": "3.9.7"
  },
  "orig_nbformat": 4
 },
 "nbformat": 4,
 "nbformat_minor": 2
}

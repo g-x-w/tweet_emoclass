{
 "cells": [
  {
   "cell_type": "code",
   "execution_count": 1,
   "metadata": {},
   "outputs": [],
   "source": [
    "import torch\n",
    "import torch.nn as nn\n",
    "from lib2to3.pgen2 import token\n",
    "from tracemalloc import start\n",
    "import numpy as np\n",
    "import csv\n",
    "import keras\n",
    "from sklearn.utils import shuffle \n",
    "import time as tt\n",
    "from matplotlib import pyplot as plt\n",
    "from tqdm import tqdm"
   ]
  },
  {
   "cell_type": "code",
   "execution_count": 2,
   "metadata": {},
   "outputs": [],
   "source": [
    "np.random.seed(1)\n",
    "device = 'cuda'\n",
    "torch.set_default_tensor_type('torch.cuda.FloatTensor')\n",
    "\n",
    "def runtime(starttime):\n",
    "    ret = tt.time() - starttime\n",
    "    return ret\n",
    "\n",
    "def unison_shuffle(a, b):\n",
    "    p = np.random.permutation(len(a))\n",
    "    return a[p], b[p]\n",
    "\n",
    "def load_pretrained_embeddings(filepath):\n",
    "    print(\"Loading in pretrained GloVe embeddings from: {}\".format(filepath))\n",
    "    \n",
    "    embeddings = {}\n",
    "    with open(filepath, 'r', encoding='utf-8') as embedfile:\n",
    "        for line in embedfile:\n",
    "            split_line = line.split()\n",
    "            token = split_line[0]\n",
    "            embed = np.array(split_line[1:], dtype=np.float64)\n",
    "            embeddings[token] = embed\n",
    "    \n",
    "    print(\"{} words loaded into embedding\".format(len(embeddings)))\n",
    "    \n",
    "    return (embeddings)\n",
    "\n",
    "def tokenize_csv(filename):\n",
    "    sen=[]\n",
    "    lab=[]\n",
    "\n",
    "    with open(filename, mode='r',encoding='utf-8') as csvfile:\n",
    "        tweetreader = csv.reader(csvfile)\n",
    "        firstline=True\n",
    "        for sentence, label in tweetreader:\n",
    "            if firstline:\n",
    "                firstline=False\n",
    "                continue\n",
    "            else:\n",
    "                sen.append(keras.preprocessing.text.text_to_word_sequence(sentence.encode('ascii', 'ignore').decode('ascii')))\n",
    "                if label=='sadness':\n",
    "                    lab.append([0,0,0,0,1])\n",
    "                elif label=='happiness':\n",
    "                    lab.append([0,0,0,1,0])\n",
    "                elif label=='no emotion':\n",
    "                    lab.append([0,0,1,0,0])\n",
    "                elif label=='fear':\n",
    "                    lab.append([0,1,0,0,0])\n",
    "                else:\n",
    "                    lab.append([1,0,0,0,0])\n",
    "\n",
    "    return (sen, lab)\n",
    "\n",
    "def tokenize_manual(filename, label):\n",
    "    '''\n",
    "        00001 sadness \n",
    "        00010 happiness\n",
    "        00100 no emotion\n",
    "        01000 fear\n",
    "        10000 anger\n",
    "    '''\n",
    "\n",
    "    sen=[]\n",
    "    lab=[]\n",
    "    with open(filename, mode='r', encoding='utf-8') as csvfile:\n",
    "        treader=csv.reader(csvfile)\n",
    "        firstline=True\n",
    "        for i_d, t in treader:\n",
    "            if firstline:\n",
    "                firstline=False\n",
    "                continue\n",
    "            else:\n",
    "                sen.append(keras.preprocessing.text.text_to_word_sequence(t.encode('ascii', 'ignore').decode('ascii')))\n",
    "                lab.append(label)\n",
    "    \n",
    "    return (sen, lab)\n",
    "\n",
    "def tweet_vectorize(tweet_label_in, glove_embeds):\n",
    "    out_vectors = []\n",
    "\n",
    "    tweet_list = tweet_label_in[0]\n",
    "    label_list = tweet_label_in[1]\n",
    "\n",
    "    for i in range(len(tweet_list)):\n",
    "        curr_tweet = []\n",
    "        while len(tweet_list[i]) > 0 and len(curr_tweet) < 50:\n",
    "            curr_word = tweet_list[i].pop(0)\n",
    "            if curr_word in glove_embeds:\n",
    "                curr_tweet.append(glove_embeds[curr_word])\n",
    "            else:\n",
    "                curr_tweet.append(np.zeros(50))     # dimensionality of embedding vector\n",
    "        if len(curr_tweet) < 50:\n",
    "            while len(curr_tweet) < 50:\n",
    "                curr_tweet.append(np.zeros(50))\n",
    "        out_vectors.append(curr_tweet)\n",
    "    \n",
    "    return (out_vectors, label_list)\n",
    "\n",
    "def split_train_val_test(input, labels, man_input, man_lab):\n",
    "\n",
    "  input_shuff, labels_shuff = shuffle(input, labels)\n",
    "\n",
    "  training_proportion = 0.8\n",
    "  validation_proportion = 0.1\n",
    "  num_train = int(len(input_shuff) * training_proportion)\n",
    "  num_val = int(len(input_shuff) * validation_proportion)\n",
    "\n",
    "  input_train, input_valid, input_test = input_shuff[:num_train], input_shuff[num_train:num_train+num_val], input_shuff[num_train+num_val:]\n",
    "  label_train, label_valid, label_test = labels_shuff[:num_train], labels_shuff[num_train:num_train+num_val], labels_shuff[num_train+num_val:]\n",
    "\n",
    "  input_test += man_input\n",
    "  label_test += man_lab\n",
    "\n",
    "  return input_train, input_valid, input_test, label_train, label_valid, label_test\n",
    "\n",
    "def convert_to_tensors(input_train, input_valid, input_test, label_train, label_valid, label_test):\n",
    "  input_train = torch.as_tensor(input_train)\n",
    "  input_valid = torch.as_tensor(input_valid)\n",
    "  input_test = torch.as_tensor(input_test)\n",
    "  label_train = torch.as_tensor(label_train)\n",
    "  label_valid = torch.as_tensor(label_valid)\n",
    "  label_test = torch.as_tensor(label_test)\n",
    "\n",
    "  return input_train, input_valid, input_test, label_train, label_valid, label_test\n",
    "\n",
    "def accuracy_calc(predictions, labels):\n",
    "    prediction = torch.argmax(predictions, dim=1)\n",
    "    prediction = nn.functional.one_hot(prediction, num_classes=5)\n",
    "    ret = torch.unique(prediction[prediction == labels], return_counts=True)\n",
    "    if ret[0][-1] == 1: ret = float(ret[1][1]/len(labels))\n",
    "    else: ret = 0.0\n",
    "    return ret\n",
    "\n",
    "# Model Definition\n",
    "class model(nn.Module):\n",
    "    def __init__(self, in_channels=50, out_channels=50, kernel_size=3, stride=1, hidden_dim=4, num_layers=1):\n",
    "        super(model, self).__init__()\n",
    "\n",
    "        self.in_channels = in_channels\n",
    "        self.out_channels = out_channels\n",
    "        self.kernel_size = kernel_size\n",
    "        self.hidden_dim = hidden_dim\n",
    "        self.num_layers = num_layers\n",
    "\n",
    "        self.convolution_layer1 = nn.Sequential(\n",
    "            nn.Conv1d(in_channels, out_channels, kernel_size, stride),      # IN: [batch_size, num_vecs=50, embed_dim=50], OUT: [batch_size, out_channel=50, convolved=48]\n",
    "            nn.BatchNorm1d(out_channels),                                   # unchanged; in-place op\n",
    "            nn.ReLU(),                                                      # unchanged; in-place ops\n",
    "            nn.MaxPool1d(kernel_size))                                      # IN: [batch_size, out_channel=50, convolved=48], OUT: [batch_size, 50, floor(convolved/kernel_size)=16]\n",
    "\n",
    "        self.bilstm = nn.LSTM(input_size=int((self.in_channels - self.kernel_size + 1)/self.kernel_size), hidden_size=hidden_dim, bidirectional=True, num_layers=num_layers)   # IN: [batch_size, 50, 16], OUT: [batch_size, 50, 8]\n",
    "\n",
    "        self.lin1 = nn.Linear(out_channels, 1)\n",
    "        self.lin2 = nn.Linear(8, 5)     # whatever the 2nd of bilstm out is\n",
    "\n",
    "        self.softmax = nn.Softmax(dim=2)\n",
    "\n",
    "    def forward(self, x):\n",
    "        x = torch.tensor(x, dtype=torch.float32)\n",
    "        x = self.convolution_layer1(x)\n",
    "        x, (hn, cn) = self.bilstm(x)\n",
    "        x = torch.transpose(x, 1, 2)\n",
    "        x = self.lin1(x)\n",
    "        x = torch.transpose(x, 1, 2)\n",
    "        x = self.lin2(x)\n",
    "        x = self.softmax(x)\n",
    "        return(x)\n",
    "\n",
    "# training loop\n",
    "def training_loop(model_instance, loss, optimizer, epochs, batch_size, x_train, y_train):\n",
    "  for epoch in range(epochs):\n",
    "    prediction = model_instance(x_train)\n",
    "    print(prediction.shape)\n",
    "    loss_value = loss(prediction, y_train)\n",
    "    loss_value.backward()\n",
    "    optimizer.step()\n",
    "    optimizer.zero_grad()\n"
   ]
  },
  {
   "cell_type": "code",
   "execution_count": 3,
   "metadata": {},
   "outputs": [
    {
     "name": "stdout",
     "output_type": "stream",
     "text": [
      "Loading in pretrained GloVe embeddings from: D:/OneDrive - University of Toronto/School/NSCI Y3/WINTER/ECE324/glove.6B/glove.6B.50d.txt\n",
      "400000 words loaded into embedding\n"
     ]
    }
   ],
   "source": [
    "runstart = tt.time()\n",
    "small_embeds = load_pretrained_embeddings(\"D:/OneDrive - University of Toronto/School/NSCI Y3/WINTER/ECE324/glove.6B/glove.6B.50d.txt\")"
   ]
  },
  {
   "cell_type": "code",
   "execution_count": 4,
   "metadata": {},
   "outputs": [
    {
     "name": "stdout",
     "output_type": "stream",
     "text": [
      "Finished vectorizing csv number 1 Dataset size:  28091 28091\n",
      "Finished vectorizing csv number 2 Dataset size:  65180 65180\n",
      "Finished vectorizing csv number 3 Dataset size:  104505 104505\n",
      "Finished vectorizing csv number 4 Dataset size:  143588 143588\n",
      "Finished vectorizing csv number 5 Dataset size:  207863 207863\n"
     ]
    }
   ],
   "source": [
    "training_set = [[], []]\n",
    "for i in range(1, 6):\n",
    "    train_tokens = tokenize_csv(\"D:/OneDrive - University of Toronto/School/NSCI Y3/WINTER/ECE324/tweet_emotion/tweets_labels/data{}.csv\".format(str(i)))\n",
    "    temp_vec = tweet_vectorize(train_tokens, small_embeds)\n",
    "    training_set[0] = training_set[0] + temp_vec[0]\n",
    "    training_set[1] = training_set[1] + temp_vec[1]\n",
    "    print('Finished vectorizing csv number {}'.format(str(i)), \"Dataset size: \", len(training_set[0]), len(training_set[1]))\n",
    "\n",
    "manual_names = ['anger', 'fear', 'happy', 'sad']\n",
    "manual_labels = [[1,0,0,0,0], [0,1,0,0,0], [0,0,0,1,0], [0,0,0,0,1]]\n",
    "\n",
    "manual_set = [[], []]\n",
    "for i in range(len(manual_labels)):\n",
    "    manual_tokens = tokenize_manual(\"D:/OneDrive - University of Toronto/School/NSCI Y3/WINTER/ECE324/tweet_emotion/manually_labeled/data_{}.csv\".format(manual_names[i]), manual_labels[i])\n",
    "    temp_vec = tweet_vectorize(manual_tokens, small_embeds)\n",
    "    manual_set[0] = manual_set[0] + temp_vec[0]\n",
    "    manual_set[1] = manual_set[1] + temp_vec[1]"
   ]
  },
  {
   "cell_type": "code",
   "execution_count": 5,
   "metadata": {},
   "outputs": [
    {
     "name": "stderr",
     "output_type": "stream",
     "text": [
      "C:\\Users\\garyx\\AppData\\Local\\Temp/ipykernel_22636/1591375611.py:117: UserWarning: Creating a tensor from a list of numpy.ndarrays is extremely slow. Please consider converting the list to a single numpy.ndarray with numpy.array() before converting to a tensor. (Triggered internally at  ..\\torch\\csrc\\utils\\tensor_new.cpp:201.)\n",
      "  input_train = torch.as_tensor(input_train)\n"
     ]
    }
   ],
   "source": [
    "x_train, x_valid, x_test, y_train, y_valid, y_test = split_train_val_test(training_set[0], training_set[1], manual_set[0], manual_set[1])\n",
    "x_train, x_valid, x_test, y_train, y_valid, y_test = convert_to_tensors(x_train, x_valid, x_test, y_train, y_valid, y_test)"
   ]
  },
  {
   "cell_type": "markdown",
   "metadata": {},
   "source": [
    "#### Initial tested parameters\n",
    "Training params: epochs = 10, learning rate = 0.001, batch size = 10000, optimizer = Adam, loss = BCELoss <br/>\n",
    "Model params: out_channels = 30, kernel_size = 3, stride = 1, hidden_dim = 4, num_layers = 1 <br/>\n",
    "Train & Valid accuracy w/ params: 60.4906% & 60.3420%\n",
    "\n",
    "#### Tuning tested parameters\n",
    "Training params: epochs = 10, learning rate = 0.0001, batch size = 5000, optimizer = Adam, loss = BCELoss <br/>\n",
    "Model params: out_channels = 30, kernel_size = 5, stride = 1, hidden_dim = 4, num_layers = 1 <br/>\n",
    "Train Valid Test accuracy w/ params: 60.0988, 60.2081, 59.4562\n",
    "\n",
    "Training params: epochs = 10, learning rate = 0.001, batch size = 10000, optimizer = Adam, loss = BCELoss <br/>\n",
    "Model params: out_channels = 50, kernel_size = 3, stride = 1, hidden_dim = 4, num_layers = 1 <br/>\n",
    "Train Valid Test accuracy accuracy w/ params: 60.5603%, 60.5773%, 60.395527%\n",
    "\n",
    "Training params: epochs = 10, learning rate = 0.001, batch size = 10000, optimizer = Adam, loss = BCELoss <br/>\n",
    "Model params: out_channels = 50, kernel_size = 3, stride = 1, hidden_dim = 4, num_layers = 2 <br/>\n",
    "Train Valid Test accuracy accuracy w/ params: 60.0768%, 60.0725%, 59.479868%\n",
    "\n",
    "Training params: epochs = 100, learning rate = 0.001, batch size = 1000, optimizer = Adam, loss = BCELoss <br/>\n",
    "Model params: out_channels = 50, kernel_size = 3, stride = 1, hidden_dim = 4, num_layers = 1 <br/>\n",
    "Train Valid Test accuracy accuracy w/ params: 69.5821%, 66.4842%, 65.8611% |||| Took ~24 min\n",
    "\n",
    "Training params: epochs = 50, learning rate = 0.001, batch size = 1000, optimizer = Adam, loss = BCELoss <br/>\n",
    "Model params: out_channels = 50, kernel_size = 3, stride = 1, hidden_dim = 4, num_layers = 1 <br/>\n",
    "Train Valid Test accuracy accuracy w/ params: 68.7802%, 65.6326%, 65.2617% |||| Took ~12 min\n",
    "\n",
    "Training params: epochs = 50, learning rate = 0.001, batch size = 1000, optimizer = Adam, loss = CELoss <br/>\n",
    "Model params: out_channels = 50, kernel_size = 3, stride = 1, hidden_dim = 4, num_layers = 1 <br/>\n",
    "Train Valid Test accuracy accuracy w/ params: 68.44% |||| Took ~15 min\n",
    "\n",
    "Training params: epochs = 50, learning rate = 0.001, batch size = 500, optimizer = Adam, loss = CELoss <br/>\n",
    "Model params: out_channels = 50, kernel_size = 3, stride = 1, hidden_dim = 4, num_layers = 1 <br/>\n",
    "Train Valid Test accuracy accuracy w/ params: 69.20% 65.77% 65.39% |||| Took ~15 min"
   ]
  },
  {
   "cell_type": "code",
   "execution_count": 6,
   "metadata": {},
   "outputs": [
    {
     "name": "stderr",
     "output_type": "stream",
     "text": [
      "Training Epochs:   0%|          | 0/50 [00:00<?, ?it/s]C:\\Users\\garyx\\AppData\\Local\\Temp/ipykernel_22636/1591375611.py:159: UserWarning: To copy construct from a tensor, it is recommended to use sourceTensor.clone().detach() or sourceTensor.clone().detach().requires_grad_(True), rather than torch.tensor(sourceTensor).\n",
      "  x = torch.tensor(x, dtype=torch.float32)\n",
      "Training Epochs:   2%|▏         | 1/50 [00:20<16:53, 20.68s/it]"
     ]
    },
    {
     "name": "stdout",
     "output_type": "stream",
     "text": [
      "Train Loss: 1.3343\t\t\n",
      "Train Acc: 59.6084%\t\n",
      "Valid Loss: 1.3010\t\t\n",
      "Valid Acc: 60.3998%\t\n"
     ]
    },
    {
     "name": "stderr",
     "output_type": "stream",
     "text": [
      "Training Epochs:   4%|▍         | 2/50 [00:40<15:57, 19.94s/it]"
     ]
    },
    {
     "name": "stdout",
     "output_type": "stream",
     "text": [
      "Train Loss: 1.3041\t\t\n",
      "Train Acc: 60.0823%\t\n",
      "Valid Loss: 1.3009\t\t\n",
      "Valid Acc: 60.3998%\t\n"
     ]
    },
    {
     "name": "stderr",
     "output_type": "stream",
     "text": [
      "Training Epochs:   6%|▌         | 3/50 [00:59<15:22, 19.62s/it]"
     ]
    },
    {
     "name": "stdout",
     "output_type": "stream",
     "text": [
      "Train Loss: 1.3040\t\t\n",
      "Train Acc: 60.0823%\t\n",
      "Valid Loss: 1.3009\t\t\n",
      "Valid Acc: 60.3998%\t\n"
     ]
    },
    {
     "name": "stderr",
     "output_type": "stream",
     "text": [
      "Training Epochs:   8%|▊         | 4/50 [01:18<14:48, 19.32s/it]"
     ]
    },
    {
     "name": "stdout",
     "output_type": "stream",
     "text": [
      "Train Loss: 1.3040\t\t\n",
      "Train Acc: 60.0823%\t\n",
      "Valid Loss: 1.3008\t\t\n",
      "Valid Acc: 60.3998%\t\n"
     ]
    },
    {
     "name": "stderr",
     "output_type": "stream",
     "text": [
      "Training Epochs:  10%|█         | 5/50 [01:37<14:21, 19.15s/it]"
     ]
    },
    {
     "name": "stdout",
     "output_type": "stream",
     "text": [
      "Train Loss: 1.3040\t\t\n",
      "Train Acc: 60.0823%\t\n",
      "Valid Loss: 1.3008\t\t\n",
      "Valid Acc: 60.3998%\t\n"
     ]
    },
    {
     "name": "stderr",
     "output_type": "stream",
     "text": [
      "Training Epochs:  12%|█▏        | 6/50 [01:56<14:00, 19.09s/it]"
     ]
    },
    {
     "name": "stdout",
     "output_type": "stream",
     "text": [
      "Train Loss: 1.3040\t\t\n",
      "Train Acc: 60.0823%\t\n",
      "Valid Loss: 1.3008\t\t\n",
      "Valid Acc: 60.3998%\t\n"
     ]
    },
    {
     "name": "stderr",
     "output_type": "stream",
     "text": [
      "Training Epochs:  14%|█▍        | 7/50 [02:15<13:39, 19.06s/it]"
     ]
    },
    {
     "name": "stdout",
     "output_type": "stream",
     "text": [
      "Train Loss: 1.3040\t\t\n",
      "Train Acc: 60.0823%\t\n",
      "Valid Loss: 1.3008\t\t\n",
      "Valid Acc: 60.3998%\t\n"
     ]
    },
    {
     "name": "stderr",
     "output_type": "stream",
     "text": [
      "Training Epochs:  16%|█▌        | 8/50 [02:34<13:21, 19.07s/it]"
     ]
    },
    {
     "name": "stdout",
     "output_type": "stream",
     "text": [
      "Train Loss: 1.3040\t\t\n",
      "Train Acc: 60.0823%\t\n",
      "Valid Loss: 1.3008\t\t\n",
      "Valid Acc: 60.3998%\t\n"
     ]
    },
    {
     "name": "stderr",
     "output_type": "stream",
     "text": [
      "Training Epochs:  18%|█▊        | 9/50 [02:53<13:04, 19.13s/it]"
     ]
    },
    {
     "name": "stdout",
     "output_type": "stream",
     "text": [
      "Train Loss: 1.3040\t\t\n",
      "Train Acc: 60.0823%\t\n",
      "Valid Loss: 1.3008\t\t\n",
      "Valid Acc: 60.3998%\t\n"
     ]
    },
    {
     "name": "stderr",
     "output_type": "stream",
     "text": [
      "Training Epochs:  20%|██        | 10/50 [03:12<12:45, 19.14s/it]"
     ]
    },
    {
     "name": "stdout",
     "output_type": "stream",
     "text": [
      "Train Loss: 1.3040\t\t\n",
      "Train Acc: 60.0823%\t\n",
      "Valid Loss: 1.3008\t\t\n",
      "Valid Acc: 60.3998%\t\n"
     ]
    },
    {
     "name": "stderr",
     "output_type": "stream",
     "text": [
      "Training Epochs:  22%|██▏       | 11/50 [03:31<12:22, 19.04s/it]"
     ]
    },
    {
     "name": "stdout",
     "output_type": "stream",
     "text": [
      "Train Loss: 1.3040\t\t\n",
      "Train Acc: 60.0823%\t\n",
      "Valid Loss: 1.3008\t\t\n",
      "Valid Acc: 60.3998%\t\n"
     ]
    },
    {
     "name": "stderr",
     "output_type": "stream",
     "text": [
      "Training Epochs:  24%|██▍       | 12/50 [03:49<11:57, 18.89s/it]"
     ]
    },
    {
     "name": "stdout",
     "output_type": "stream",
     "text": [
      "Train Loss: 1.3040\t\t\n",
      "Train Acc: 60.0823%\t\n",
      "Valid Loss: 1.3008\t\t\n",
      "Valid Acc: 60.3998%\t\n"
     ]
    },
    {
     "name": "stderr",
     "output_type": "stream",
     "text": [
      "Training Epochs:  26%|██▌       | 13/50 [04:08<11:35, 18.80s/it]"
     ]
    },
    {
     "name": "stdout",
     "output_type": "stream",
     "text": [
      "Train Loss: 1.3040\t\t\n",
      "Train Acc: 60.0823%\t\n",
      "Valid Loss: 1.3008\t\t\n",
      "Valid Acc: 60.3998%\t\n"
     ]
    },
    {
     "name": "stderr",
     "output_type": "stream",
     "text": [
      "Training Epochs:  28%|██▊       | 14/50 [04:27<11:15, 18.75s/it]"
     ]
    },
    {
     "name": "stdout",
     "output_type": "stream",
     "text": [
      "Train Loss: 1.3040\t\t\n",
      "Train Acc: 60.0823%\t\n",
      "Valid Loss: 1.3008\t\t\n",
      "Valid Acc: 60.3998%\t\n"
     ]
    },
    {
     "name": "stderr",
     "output_type": "stream",
     "text": [
      "Training Epochs:  30%|███       | 15/50 [04:45<10:55, 18.74s/it]"
     ]
    },
    {
     "name": "stdout",
     "output_type": "stream",
     "text": [
      "Train Loss: 1.3040\t\t\n",
      "Train Acc: 60.0823%\t\n",
      "Valid Loss: 1.3008\t\t\n",
      "Valid Acc: 60.3998%\t\n"
     ]
    },
    {
     "name": "stderr",
     "output_type": "stream",
     "text": [
      "Training Epochs:  32%|███▏      | 16/50 [05:04<10:35, 18.70s/it]"
     ]
    },
    {
     "name": "stdout",
     "output_type": "stream",
     "text": [
      "Train Loss: 1.3040\t\t\n",
      "Train Acc: 60.0823%\t\n",
      "Valid Loss: 1.3008\t\t\n",
      "Valid Acc: 60.3998%\t\n"
     ]
    },
    {
     "name": "stderr",
     "output_type": "stream",
     "text": [
      "Training Epochs:  34%|███▍      | 17/50 [05:23<10:16, 18.68s/it]"
     ]
    },
    {
     "name": "stdout",
     "output_type": "stream",
     "text": [
      "Train Loss: 1.3040\t\t\n",
      "Train Acc: 60.0823%\t\n",
      "Valid Loss: 1.3008\t\t\n",
      "Valid Acc: 60.3998%\t\n"
     ]
    },
    {
     "name": "stderr",
     "output_type": "stream",
     "text": [
      "Training Epochs:  36%|███▌      | 18/50 [05:41<09:56, 18.64s/it]"
     ]
    },
    {
     "name": "stdout",
     "output_type": "stream",
     "text": [
      "Train Loss: 1.3040\t\t\n",
      "Train Acc: 60.0823%\t\n",
      "Valid Loss: 1.3008\t\t\n",
      "Valid Acc: 60.3998%\t\n"
     ]
    },
    {
     "name": "stderr",
     "output_type": "stream",
     "text": [
      "Training Epochs:  38%|███▊      | 19/50 [06:00<09:40, 18.72s/it]"
     ]
    },
    {
     "name": "stdout",
     "output_type": "stream",
     "text": [
      "Train Loss: 1.3040\t\t\n",
      "Train Acc: 60.0823%\t\n",
      "Valid Loss: 1.3008\t\t\n",
      "Valid Acc: 60.3998%\t\n"
     ]
    },
    {
     "name": "stderr",
     "output_type": "stream",
     "text": [
      "Training Epochs:  40%|████      | 20/50 [06:19<09:20, 18.67s/it]"
     ]
    },
    {
     "name": "stdout",
     "output_type": "stream",
     "text": [
      "Train Loss: 1.3040\t\t\n",
      "Train Acc: 60.0823%\t\n",
      "Valid Loss: 1.3008\t\t\n",
      "Valid Acc: 60.3998%\t\n"
     ]
    },
    {
     "name": "stderr",
     "output_type": "stream",
     "text": [
      "Training Epochs:  42%|████▏     | 21/50 [06:37<09:00, 18.65s/it]"
     ]
    },
    {
     "name": "stdout",
     "output_type": "stream",
     "text": [
      "Train Loss: 1.3040\t\t\n",
      "Train Acc: 60.0823%\t\n",
      "Valid Loss: 1.3008\t\t\n",
      "Valid Acc: 60.3998%\t\n"
     ]
    },
    {
     "name": "stderr",
     "output_type": "stream",
     "text": [
      "Training Epochs:  44%|████▍     | 22/50 [06:56<08:41, 18.64s/it]"
     ]
    },
    {
     "name": "stdout",
     "output_type": "stream",
     "text": [
      "Train Loss: 1.3040\t\t\n",
      "Train Acc: 60.0823%\t\n",
      "Valid Loss: 1.3008\t\t\n",
      "Valid Acc: 60.3998%\t\n"
     ]
    },
    {
     "name": "stderr",
     "output_type": "stream",
     "text": [
      "Training Epochs:  46%|████▌     | 23/50 [07:14<08:23, 18.64s/it]"
     ]
    },
    {
     "name": "stdout",
     "output_type": "stream",
     "text": [
      "Train Loss: 1.3040\t\t\n",
      "Train Acc: 60.0823%\t\n",
      "Valid Loss: 1.3008\t\t\n",
      "Valid Acc: 60.3998%\t\n"
     ]
    },
    {
     "name": "stderr",
     "output_type": "stream",
     "text": [
      "Training Epochs:  48%|████▊     | 24/50 [07:33<08:05, 18.67s/it]"
     ]
    },
    {
     "name": "stdout",
     "output_type": "stream",
     "text": [
      "Train Loss: 1.3040\t\t\n",
      "Train Acc: 60.0823%\t\n",
      "Valid Loss: 1.3008\t\t\n",
      "Valid Acc: 60.3998%\t\n"
     ]
    },
    {
     "name": "stderr",
     "output_type": "stream",
     "text": [
      "Training Epochs:  50%|█████     | 25/50 [07:51<07:39, 18.40s/it]"
     ]
    },
    {
     "name": "stdout",
     "output_type": "stream",
     "text": [
      "Train Loss: 1.2803\t\t\n",
      "Train Acc: 62.0641%\t\n",
      "Valid Loss: 1.2577\t\t\n",
      "Valid Acc: 64.1747%\t\n"
     ]
    },
    {
     "name": "stderr",
     "output_type": "stream",
     "text": [
      "Training Epochs:  52%|█████▏    | 26/50 [08:07<07:04, 17.69s/it]"
     ]
    },
    {
     "name": "stdout",
     "output_type": "stream",
     "text": [
      "Train Loss: 1.2551\t\t\n",
      "Train Acc: 64.4707%\t\n",
      "Valid Loss: 1.2511\t\t\n",
      "Valid Acc: 64.9294%\t\n"
     ]
    },
    {
     "name": "stderr",
     "output_type": "stream",
     "text": [
      "Training Epochs:  54%|█████▍    | 27/50 [08:24<06:42, 17.52s/it]"
     ]
    },
    {
     "name": "stdout",
     "output_type": "stream",
     "text": [
      "Train Loss: 1.2483\t\t\n",
      "Train Acc: 65.2585%\t\n",
      "Valid Loss: 1.2486\t\t\n",
      "Valid Acc: 65.1258%\t\n"
     ]
    },
    {
     "name": "stderr",
     "output_type": "stream",
     "text": [
      "Training Epochs:  56%|█████▌    | 28/50 [08:43<06:35, 18.00s/it]"
     ]
    },
    {
     "name": "stdout",
     "output_type": "stream",
     "text": [
      "Train Loss: 1.2435\t\t\n",
      "Train Acc: 65.7601%\t\n",
      "Valid Loss: 1.2472\t\t\n",
      "Valid Acc: 65.1223%\t\n"
     ]
    },
    {
     "name": "stderr",
     "output_type": "stream",
     "text": [
      "Training Epochs:  58%|█████▊    | 29/50 [09:01<06:15, 17.87s/it]"
     ]
    },
    {
     "name": "stdout",
     "output_type": "stream",
     "text": [
      "Train Loss: 1.2397\t\t\n",
      "Train Acc: 66.1938%\t\n",
      "Valid Loss: 1.2467\t\t\n",
      "Valid Acc: 65.2044%\t\n"
     ]
    },
    {
     "name": "stderr",
     "output_type": "stream",
     "text": [
      "Training Epochs:  60%|██████    | 30/50 [09:18<05:50, 17.53s/it]"
     ]
    },
    {
     "name": "stdout",
     "output_type": "stream",
     "text": [
      "Train Loss: 1.2365\t\t\n",
      "Train Acc: 66.5444%\t\n",
      "Valid Loss: 1.2459\t\t\n",
      "Valid Acc: 65.3485%\t\n"
     ]
    },
    {
     "name": "stderr",
     "output_type": "stream",
     "text": [
      "Training Epochs:  62%|██████▏   | 31/50 [09:35<05:30, 17.39s/it]"
     ]
    },
    {
     "name": "stdout",
     "output_type": "stream",
     "text": [
      "Train Loss: 1.2340\t\t\n",
      "Train Acc: 66.8531%\t\n",
      "Valid Loss: 1.2453\t\t\n",
      "Valid Acc: 65.4651%\t\n"
     ]
    },
    {
     "name": "stderr",
     "output_type": "stream",
     "text": [
      "Training Epochs:  64%|██████▍   | 32/50 [09:54<05:22, 17.94s/it]"
     ]
    },
    {
     "name": "stdout",
     "output_type": "stream",
     "text": [
      "Train Loss: 1.2322\t\t\n",
      "Train Acc: 67.0679%\t\n",
      "Valid Loss: 1.2448\t\t\n",
      "Valid Acc: 65.4068%\t\n"
     ]
    },
    {
     "name": "stderr",
     "output_type": "stream",
     "text": [
      "Training Epochs:  66%|██████▌   | 33/50 [10:13<05:12, 18.36s/it]"
     ]
    },
    {
     "name": "stdout",
     "output_type": "stream",
     "text": [
      "Train Loss: 1.2309\t\t\n",
      "Train Acc: 67.1869%\t\n",
      "Valid Loss: 1.2440\t\t\n",
      "Valid Acc: 65.5235%\t\n"
     ]
    },
    {
     "name": "stderr",
     "output_type": "stream",
     "text": [
      "Training Epochs:  68%|██████▊   | 34/50 [10:33<04:58, 18.68s/it]"
     ]
    },
    {
     "name": "stdout",
     "output_type": "stream",
     "text": [
      "Train Loss: 1.2296\t\t\n",
      "Train Acc: 67.2740%\t\n",
      "Valid Loss: 1.2428\t\t\n",
      "Valid Acc: 65.6235%\t\n"
     ]
    },
    {
     "name": "stderr",
     "output_type": "stream",
     "text": [
      "Training Epochs:  70%|███████   | 35/50 [10:52<04:43, 18.91s/it]"
     ]
    },
    {
     "name": "stdout",
     "output_type": "stream",
     "text": [
      "Train Loss: 1.2287\t\t\n",
      "Train Acc: 67.3596%\t\n",
      "Valid Loss: 1.2423\t\t\n",
      "Valid Acc: 65.7009%\t\n"
     ]
    },
    {
     "name": "stderr",
     "output_type": "stream",
     "text": [
      "Training Epochs:  72%|███████▏  | 36/50 [11:11<04:26, 19.02s/it]"
     ]
    },
    {
     "name": "stdout",
     "output_type": "stream",
     "text": [
      "Train Loss: 1.2266\t\t\n",
      "Train Acc: 67.6445%\t\n",
      "Valid Loss: 1.2421\t\t\n",
      "Valid Acc: 65.8140%\t\n"
     ]
    },
    {
     "name": "stderr",
     "output_type": "stream",
     "text": [
      "Training Epochs:  74%|███████▍  | 37/50 [11:30<04:05, 18.86s/it]"
     ]
    },
    {
     "name": "stdout",
     "output_type": "stream",
     "text": [
      "Train Loss: 1.2247\t\t\n",
      "Train Acc: 67.8814%\t\n",
      "Valid Loss: 1.2422\t\t\n",
      "Valid Acc: 65.7830%\t\n"
     ]
    },
    {
     "name": "stderr",
     "output_type": "stream",
     "text": [
      "Training Epochs:  76%|███████▌  | 38/50 [11:48<03:42, 18.52s/it]"
     ]
    },
    {
     "name": "stdout",
     "output_type": "stream",
     "text": [
      "Train Loss: 1.2230\t\t\n",
      "Train Acc: 68.0936%\t\n",
      "Valid Loss: 1.2425\t\t\n",
      "Valid Acc: 65.6771%\t\n"
     ]
    },
    {
     "name": "stderr",
     "output_type": "stream",
     "text": [
      "Training Epochs:  78%|███████▊  | 39/50 [12:06<03:24, 18.57s/it]"
     ]
    },
    {
     "name": "stdout",
     "output_type": "stream",
     "text": [
      "Train Loss: 1.2215\t\t\n",
      "Train Acc: 68.2640%\t\n",
      "Valid Loss: 1.2429\t\t\n",
      "Valid Acc: 65.5985%\t\n"
     ]
    },
    {
     "name": "stderr",
     "output_type": "stream",
     "text": [
      "Training Epochs:  80%|████████  | 40/50 [12:25<03:06, 18.69s/it]"
     ]
    },
    {
     "name": "stdout",
     "output_type": "stream",
     "text": [
      "Train Loss: 1.2205\t\t\n",
      "Train Acc: 68.3708%\t\n",
      "Valid Loss: 1.2432\t\t\n",
      "Valid Acc: 65.5497%\t\n"
     ]
    },
    {
     "name": "stderr",
     "output_type": "stream",
     "text": [
      "Training Epochs:  82%|████████▏ | 41/50 [12:44<02:49, 18.82s/it]"
     ]
    },
    {
     "name": "stdout",
     "output_type": "stream",
     "text": [
      "Train Loss: 1.2209\t\t\n",
      "Train Acc: 68.2391%\t\n",
      "Valid Loss: 1.2424\t\t\n",
      "Valid Acc: 65.6306%\t\n"
     ]
    },
    {
     "name": "stderr",
     "output_type": "stream",
     "text": [
      "Training Epochs:  84%|████████▍ | 42/50 [13:03<02:30, 18.84s/it]"
     ]
    },
    {
     "name": "stdout",
     "output_type": "stream",
     "text": [
      "Train Loss: 1.2213\t\t\n",
      "Train Acc: 68.1319%\t\n",
      "Valid Loss: 1.2432\t\t\n",
      "Valid Acc: 65.6509%\t\n"
     ]
    },
    {
     "name": "stderr",
     "output_type": "stream",
     "text": [
      "Training Epochs:  86%|████████▌ | 43/50 [13:22<02:11, 18.84s/it]"
     ]
    },
    {
     "name": "stdout",
     "output_type": "stream",
     "text": [
      "Train Loss: 1.2202\t\t\n",
      "Train Acc: 68.3074%\t\n",
      "Valid Loss: 1.2422\t\t\n",
      "Valid Acc: 65.6675%\t\n"
     ]
    },
    {
     "name": "stderr",
     "output_type": "stream",
     "text": [
      "Training Epochs:  88%|████████▊ | 44/50 [13:41<01:53, 18.89s/it]"
     ]
    },
    {
     "name": "stdout",
     "output_type": "stream",
     "text": [
      "Train Loss: 1.2183\t\t\n",
      "Train Acc: 68.5144%\t\n",
      "Valid Loss: 1.2419\t\t\n",
      "Valid Acc: 65.7485%\t\n"
     ]
    },
    {
     "name": "stderr",
     "output_type": "stream",
     "text": [
      "Training Epochs:  90%|█████████ | 45/50 [14:00<01:34, 18.90s/it]"
     ]
    },
    {
     "name": "stdout",
     "output_type": "stream",
     "text": [
      "Train Loss: 1.2167\t\t\n",
      "Train Acc: 68.7567%\t\n",
      "Valid Loss: 1.2419\t\t\n",
      "Valid Acc: 65.7032%\t\n"
     ]
    },
    {
     "name": "stderr",
     "output_type": "stream",
     "text": [
      "Training Epochs:  92%|█████████▏| 46/50 [14:19<01:15, 18.90s/it]"
     ]
    },
    {
     "name": "stdout",
     "output_type": "stream",
     "text": [
      "Train Loss: 1.2153\t\t\n",
      "Train Acc: 68.9467%\t\n",
      "Valid Loss: 1.2417\t\t\n",
      "Valid Acc: 65.8437%\t\n"
     ]
    },
    {
     "name": "stderr",
     "output_type": "stream",
     "text": [
      "Training Epochs:  94%|█████████▍| 47/50 [14:38<00:56, 18.96s/it]"
     ]
    },
    {
     "name": "stdout",
     "output_type": "stream",
     "text": [
      "Train Loss: 1.2142\t\t\n",
      "Train Acc: 69.0419%\t\n",
      "Valid Loss: 1.2416\t\t\n",
      "Valid Acc: 65.8044%\t\n"
     ]
    },
    {
     "name": "stderr",
     "output_type": "stream",
     "text": [
      "Training Epochs:  96%|█████████▌| 48/50 [14:57<00:37, 18.96s/it]"
     ]
    },
    {
     "name": "stdout",
     "output_type": "stream",
     "text": [
      "Train Loss: 1.2134\t\t\n",
      "Train Acc: 69.1514%\t\n",
      "Valid Loss: 1.2420\t\t\n",
      "Valid Acc: 65.8246%\t\n"
     ]
    },
    {
     "name": "stderr",
     "output_type": "stream",
     "text": [
      "Training Epochs:  98%|█████████▊| 49/50 [15:16<00:18, 18.93s/it]"
     ]
    },
    {
     "name": "stdout",
     "output_type": "stream",
     "text": [
      "Train Loss: 1.2129\t\t\n",
      "Train Acc: 69.2047%\t\n",
      "Valid Loss: 1.2427\t\t\n",
      "Valid Acc: 65.7746%\t\n"
     ]
    },
    {
     "name": "stderr",
     "output_type": "stream",
     "text": [
      "Training Epochs: 100%|██████████| 50/50 [15:35<00:00, 18.70s/it]"
     ]
    },
    {
     "name": "stdout",
     "output_type": "stream",
     "text": [
      "Train Loss: 1.2129\t\t\n",
      "Train Acc: 69.1489%\t\n",
      "Valid Loss: 1.2446\t\t\n",
      "Valid Acc: 65.5687%\t\n",
      "Total training runtime: 936.772631\n"
     ]
    },
    {
     "name": "stderr",
     "output_type": "stream",
     "text": [
      "\n"
     ]
    }
   ],
   "source": [
    "start = tt.time()\n",
    "\n",
    "y_train = torch.squeeze(y_train, dim=1)\n",
    "y_valid = torch.squeeze(y_valid, dim=1)\n",
    "y_test = torch.squeeze(y_test, dim=1)\n",
    "\n",
    "model_instance = model()\n",
    "\n",
    "# Training hyperparams\n",
    "loss = nn.CrossEntropyLoss()\n",
    "optimizer = torch.optim.Adam(model_instance.parameters(), lr=0.001)\n",
    "batch_size = 500\n",
    "num_epochs = 50\n",
    "\n",
    "epoch_acc = []\n",
    "epoch_loss = []\n",
    "\n",
    "curr_iter = 0\n",
    "for epoch in tqdm(range(int(num_epochs)), desc='Training Epochs'):\n",
    "    train_acc = []\n",
    "    valid_acc = []\n",
    "    train_loss = []\n",
    "    valid_loss = []\n",
    "\n",
    "    for b in range(0, len(x_train), batch_size):\n",
    "        x_batch = x_train[b:b+batch_size]\n",
    "        y_batch = y_train[b:b+batch_size]\n",
    "\n",
    "        prediction = model_instance(x_batch)\n",
    "        prediction = torch.squeeze(prediction, dim=1)\n",
    "        y_batch = y_batch.type(torch.cuda.FloatTensor)\n",
    "        loss_value = loss(prediction, y_batch)\n",
    "        loss_value.backward()\n",
    "        optimizer.step()\n",
    "        optimizer.zero_grad()\n",
    "\n",
    "        train_acc.append(accuracy_calc(prediction, y_batch))\n",
    "        train_loss.append(loss_value.item())\n",
    "        \n",
    "    train_loss = np.asarray(train_loss)\n",
    "    train_acc = np.asarray(train_acc)\n",
    "    epoch_loss.append(np.mean(train_loss))\n",
    "    epoch_acc.append(100*np.mean(train_acc))\n",
    "\n",
    "    for b in range(0, len(x_valid), batch_size):\n",
    "        x_batch = x_valid[b:b+batch_size]\n",
    "        y_batch = y_valid[b:b+batch_size]\n",
    "\n",
    "        prediction = model_instance(x_batch)\n",
    "        prediction = torch.squeeze(prediction, dim=1)\n",
    "        y_batch = y_batch.type(torch.cuda.FloatTensor)\n",
    "        loss_value = loss(prediction, y_batch)\n",
    "\n",
    "        valid_acc.append(accuracy_calc(prediction, y_batch))\n",
    "        valid_loss.append(loss_value.item())\n",
    "\n",
    "    valid_loss = np.asarray(valid_loss)\n",
    "    valid_acc = np.asarray(valid_acc)\n",
    "    \n",
    "    print(\"Train Loss: {:.4f}\\t\\t\".format(epoch_loss[-1])) \n",
    "    print(\"Train Acc: {:.4f}%\\t\".format(epoch_acc[-1]))\n",
    "    print(\"Valid Loss: {:.4f}\\t\\t\".format(np.mean(valid_loss))) \n",
    "    print(\"Valid Acc: {:.4f}%\\t\".format(100*np.mean(valid_acc)))\n",
    "\n",
    "print(\"Total training runtime: {:2f}\".format(runtime(start)))"
   ]
  },
  {
   "cell_type": "code",
   "execution_count": 7,
   "metadata": {},
   "outputs": [
    {
     "name": "stderr",
     "output_type": "stream",
     "text": [
      "C:\\Users\\garyx\\AppData\\Local\\Temp/ipykernel_22636/1591375611.py:159: UserWarning: To copy construct from a tensor, it is recommended to use sourceTensor.clone().detach() or sourceTensor.clone().detach().requires_grad_(True), rather than torch.tensor(sourceTensor).\n",
      "  x = torch.tensor(x, dtype=torch.float32)\n"
     ]
    },
    {
     "name": "stdout",
     "output_type": "stream",
     "text": [
      "Test acc: 65.389156%\n"
     ]
    }
   ],
   "source": [
    "# Test accuracy:\n",
    "prediction = model_instance(x_test)\n",
    "prediction = torch.squeeze(prediction, dim=1)\n",
    "test_acc = accuracy_calc(prediction, y_test)\n",
    "print(\"Test acc: {:4f}%\".format(100*test_acc))"
   ]
  },
  {
   "cell_type": "code",
   "execution_count": 8,
   "metadata": {},
   "outputs": [
    {
     "data": {
      "text/plain": [
       "Text(0.5, 1.0, 'Model Training Loss over 50 Epochs')"
      ]
     },
     "execution_count": 8,
     "metadata": {},
     "output_type": "execute_result"
    },
    {
     "data": {
      "image/png": "[encoded data removed]",
      "text/plain": [
       "<Figure size 432x288 with 1 Axes>"
      ]
     },
     "metadata": {
      "needs_background": "light"
     },
     "output_type": "display_data"
    }
   ],
   "source": [
    "plt.plot(range(1, len(epoch_loss) + 1), epoch_loss)\n",
    "plt.xlabel('Number of Epochs')\n",
    "plt.ylabel('CELoss')\n",
    "plt.title('Model Training Loss over 50 Epochs')"
   ]
  },
  {
   "cell_type": "code",
   "execution_count": 9,
   "metadata": {},
   "outputs": [
    {
     "data": {
      "text/plain": [
       "Text(0.5, 1.0, 'Model Training Accuracy over 50 Epochs')"
      ]
     },
     "execution_count": 9,
     "metadata": {},
     "output_type": "execute_result"
    },
    {
     "data": {
      "image/png": "[encoded data removed]",
      "text/plain": [
       "<Figure size 432x288 with 1 Axes>"
      ]
     },
     "metadata": {
      "needs_background": "light"
     },
     "output_type": "display_data"
    }
   ],
   "source": [
    "plt.plot(range(1, len(epoch_acc) + 1), epoch_acc)\n",
    "plt.xlabel('Number of Epochs')\n",
    "plt.ylabel('Model Accuracy')\n",
    "plt.title('Model Training Accuracy over 50 Epochs')"
   ]
  }
 ],
 "metadata": {
  "interpreter": {
   "hash": "10e1abf77ddef6b5a0d462bd0c1af8a6d69cacf984b7ff54f171d3af9bd75ca1"
  },
  "kernelspec": {
   "display_name": "Python 3.9.7 ('base')",
   "language": "python",
   "name": "python3"
  },
  "language_info": {
   "codemirror_mode": {
    "name": "ipython",
    "version": 3
   },
   "file_extension": ".py",
   "mimetype": "text/x-python",
   "name": "python",
   "nbconvert_exporter": "python",
   "pygments_lexer": "ipython3",
   "version": "3.9.7"
  },
  "orig_nbformat": 4
 },
 "nbformat": 4,
 "nbformat_minor": 2
}
